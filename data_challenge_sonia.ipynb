{
  "nbformat": 4,
  "nbformat_minor": 0,
  "metadata": {
    "kernelspec": {
      "name": "python3",
      "display_name": "Python 3"
    },
    "language_info": {
      "codemirror_mode": {
        "name": "ipython",
        "version": 3
      },
      "file_extension": ".py",
      "mimetype": "text/x-python",
      "name": "python",
      "nbconvert_exporter": "python",
      "pygments_lexer": "ipython3",
      "version": "3.7.5"
    },
    "colab": {
      "name": "data_challenge_sonia.ipynb",
      "provenance": [],
      "collapsed_sections": [],
      "machine_shape": "hm"
    },
    "accelerator": "GPU"
  },
  "cells": [
    {
      "cell_type": "markdown",
      "metadata": {
        "colab_type": "text",
        "id": "rrBw3YCDB7nh"
      },
      "source": [
        "# Challenge Large Scale Machine Learning\n",
        "\n",
        "## Fusion of algorithms for face recognition\n",
        "The increasingly ubiquitous presence of biometric solutions and face recognition in particular in everyday life requires their adaptation for practical scenario. In the presence of several possible solutions, and if global decisions are to be made, each such single solution can be far less efficient than tailoring them to the complexity of an image.\n",
        "\n",
        "In this challenge, the goal is to build a fusion of algorithms in order to construct the best suited solution for comparison of a pair of images. This fusion will be driven by qualities computed on each image.\n",
        "\n",
        "Comparing of two images is done in two steps. 1st, a vector of features is computed for each image. 2nd, a simple function produces a vector of scores for a pair of images. The goal is to create a function that will compare a pair of images based on the information mentioned above, and decide whether two images belong to the same person.\n",
        "\n",
        "You are provided a label set of training data and a test set without labels. You should submit a .csv file with labels for each entry of this test set.\n",
        "\n",
        "## The properties of the dataset\n",
        "**Training data:**\n",
        "\n",
        "The training set consist of two files, xtrain_challenge.csv and xtest_challenge.csv.\n",
        "\n",
        "File **xtrain_challenge.csv** contains one observation per row which contains following entries based on a pair of images:\n",
        "- columns 1-13 - 13 qualities on first image\n",
        "- columns 14-26 - 13 qualities on second image\n",
        "- columns 27-37 - 11 matching scores between the two images.\n",
        "\n",
        "File **ytrain_challenge.csv** contains one line with each entry corresponding to one observation in xtrain_challenge.csv, maintaining the order, and has '1' if a pair of images belong to the same person and '0' otherwise.\n",
        "\n",
        "For each of these 38 variables, there are in total 9,800,713 training observations.\n",
        "\n",
        "\n",
        "\n",
        "**Test data:**\n",
        "\n",
        "File xtest_challenge.csv has the same structure as file xtrain_challenge.csv.\n",
        "\n",
        "There are in total 3,768,311 test observations.\n",
        "\n",
        "## The performance criterion\n",
        "Consider the problem of the supervised classification with two classes labeled '0' and '1'. Many methods for supervised classification assign a new observation x to a class using the following rule:\n",
        "\n",
        "g(x)={1 if f(x)≥t, 0 otherwise\n",
        "\n",
        "Threshold t is then chosen due to specific needs managing the trade-off between the true positive rate (TPR) and the false positive rate (FPR), depending on the cost of the corresponding mistakes.\n",
        "\n",
        "Here, the performance criterion is TPR for the value of FPR = 10-4, or, speaking in other words, one needs to maximize the value of the receiver operating characteristic (ROC) in the point FPR = 10−4. The submitted solution file should thus contain the score for each observation.\n",
        "\n",
        "**Training Data**\n",
        "- Training data, input (file xtrain_challenge.csv): https://www.dropbox.com/s/618rb0wev4q84kj/xtrain_challenge.csv\n",
        "- Training data, output (file ytrain_challenge.csv):\n",
        "https://www.dropbox.com/s/oph3w9sn3nmu376/ytrain_challenge.csv\n",
        "\n",
        "**Test Data**\n",
        "Test data, input (file xtest_challenge.csv): https://www.dropbox.com/s/fezxb6lrzass556/xtest_challenge.csv"
      ]
    },
    {
      "cell_type": "markdown",
      "metadata": {
        "id": "zAPsgu86bRyv",
        "colab_type": "text"
      },
      "source": [
        "### Imports and install"
      ]
    },
    {
      "cell_type": "code",
      "metadata": {
        "id": "t-BikYr25FEY",
        "colab_type": "code",
        "colab": {}
      },
      "source": [
        "!pip install -q vecstack"
      ],
      "execution_count": 0,
      "outputs": []
    },
    {
      "cell_type": "code",
      "metadata": {
        "id": "pPI86HuO6xhE",
        "colab_type": "code",
        "outputId": "cff760ca-0328-4496-b64a-be043b0b2cc2",
        "colab": {
          "base_uri": "https://localhost:8080/",
          "height": 513
        }
      },
      "source": [
        "from tensorflow.python.client import device_lib\n",
        "device_lib.list_local_devices()"
      ],
      "execution_count": 0,
      "outputs": [
        {
          "output_type": "execute_result",
          "data": {
            "text/plain": [
              "[name: \"/device:CPU:0\"\n",
              " device_type: \"CPU\"\n",
              " memory_limit: 268435456\n",
              " locality {\n",
              " }\n",
              " incarnation: 17662547565417735446, name: \"/device:XLA_CPU:0\"\n",
              " device_type: \"XLA_CPU\"\n",
              " memory_limit: 17179869184\n",
              " locality {\n",
              " }\n",
              " incarnation: 13074107072940700753\n",
              " physical_device_desc: \"device: XLA_CPU device\", name: \"/device:XLA_GPU:0\"\n",
              " device_type: \"XLA_GPU\"\n",
              " memory_limit: 17179869184\n",
              " locality {\n",
              " }\n",
              " incarnation: 8050722398930612734\n",
              " physical_device_desc: \"device: XLA_GPU device\", name: \"/device:GPU:0\"\n",
              " device_type: \"GPU\"\n",
              " memory_limit: 15956161332\n",
              " locality {\n",
              "   bus_id: 1\n",
              "   links {\n",
              "   }\n",
              " }\n",
              " incarnation: 16724893946207099056\n",
              " physical_device_desc: \"device: 0, name: Tesla P100-PCIE-16GB, pci bus id: 0000:00:04.0, compute capability: 6.0\"]"
            ]
          },
          "metadata": {
            "tags": []
          },
          "execution_count": 14
        }
      ]
    },
    {
      "cell_type": "code",
      "metadata": {
        "id": "6ovt7JRZ5u3U",
        "colab_type": "code",
        "outputId": "52d0f9ba-07d8-4cf0-89a3-cddd1a952de5",
        "colab": {
          "base_uri": "https://localhost:8080/",
          "height": 54
        }
      },
      "source": [
        "%tensorflow_version 2.x\n",
        "import tensorflow as tf\n",
        "device_name = tf.test.gpu_device_name()\n",
        "if device_name != '/device:GPU:0':\n",
        "  raise SystemError('GPU device not found')\n",
        "print('Found GPU at: {}'.format(device_name))"
      ],
      "execution_count": 0,
      "outputs": [
        {
          "output_type": "stream",
          "text": [
            "TensorFlow is already loaded. Please restart the runtime to change versions.\n",
            "Found GPU at: /device:GPU:0\n"
          ],
          "name": "stdout"
        }
      ]
    },
    {
      "cell_type": "code",
      "metadata": {
        "id": "E5FrHJaPbRyy",
        "colab_type": "code",
        "colab": {}
      },
      "source": [
        "%matplotlib inline\n",
        "import numpy as np\n",
        "import pandas as pd\n",
        "import sys\n",
        "import os\n",
        "import matplotlib.pyplot as plt\n",
        "import math\n",
        "from sklearn.linear_model import LogisticRegression\n",
        "import lightgbm as lgb\n",
        "import seaborn as sns\n",
        "from sklearn.ensemble import RandomForestClassifier\n",
        "from sklearn.model_selection import train_test_split\n",
        "from lightgbm import LGBMClassifier\n",
        "from sklearn.neighbors import KNeighborsClassifier\n",
        "from sklearn.ensemble import RandomForestClassifier\n",
        "from xgboost import XGBClassifier\n",
        "from vecstack import stacking\n",
        "from sklearn.metrics import confusion_matrix\n",
        "from sklearn.metrics import accuracy_score\n",
        "import pickle\n",
        "from sklearn.metrics import accuracy_score\n",
        "from sklearn.preprocessing import LabelEncoder"
      ],
      "execution_count": 0,
      "outputs": []
    },
    {
      "cell_type": "markdown",
      "metadata": {
        "id": "jObZosBbbRzB",
        "colab_type": "text"
      },
      "source": [
        "### Load and investigate the data"
      ]
    },
    {
      "cell_type": "code",
      "metadata": {
        "id": "1fM8eT1zwVXK",
        "colab_type": "code",
        "outputId": "5626c4ee-9d58-4a15-cc68-9201707eb51a",
        "colab": {
          "base_uri": "https://localhost:8080/",
          "height": 129
        }
      },
      "source": [
        "from google.colab import drive\n",
        "drive.mount('/content/drive')"
      ],
      "execution_count": 0,
      "outputs": [
        {
          "output_type": "stream",
          "text": [
            "Go to this URL in a browser: https://accounts.google.com/o/oauth2/auth?client_id=947318989803-6bn6qk8qdgf4n4g3pfee6491hc0brc4i.apps.googleusercontent.com&redirect_uri=urn%3aietf%3awg%3aoauth%3a2.0%3aoob&response_type=code&scope=email%20https%3a%2f%2fwww.googleapis.com%2fauth%2fdocs.test%20https%3a%2f%2fwww.googleapis.com%2fauth%2fdrive%20https%3a%2f%2fwww.googleapis.com%2fauth%2fdrive.photos.readonly%20https%3a%2f%2fwww.googleapis.com%2fauth%2fpeopleapi.readonly\n",
            "\n",
            "Enter your authorization code:\n",
            "··········\n",
            "Mounted at /content/drive\n"
          ],
          "name": "stdout"
        }
      ]
    },
    {
      "cell_type": "code",
      "metadata": {
        "id": "OT6Sr9nqV6XJ",
        "colab_type": "code",
        "colab": {}
      },
      "source": [
        "# Load training data\n",
        "xtrain = pd.read_csv('/content/drive/My Drive/data challenge_idemia/xtrain_challenge.csv', delimiter=',')"
      ],
      "execution_count": 0,
      "outputs": []
    },
    {
      "cell_type": "code",
      "metadata": {
        "id": "r6BNtIiwzSmI",
        "colab_type": "code",
        "colab": {}
      },
      "source": [
        "ytrain = pd.read_csv('/content/drive/My Drive/data challenge_idemia/ytrain_challenge.csv', delimiter=',')"
      ],
      "execution_count": 0,
      "outputs": []
    },
    {
      "cell_type": "code",
      "metadata": {
        "id": "2HgErBjUWCUi",
        "colab_type": "code",
        "colab": {}
      },
      "source": [
        "# Load testing data\n",
        "xtest = pd.read_csv('/content/drive/My Drive/data challenge_idemia/xtest_challenge.csv', delimiter=',')"
      ],
      "execution_count": 0,
      "outputs": []
    },
    {
      "cell_type": "code",
      "metadata": {
        "id": "ZPOYFTjJxmRt",
        "colab_type": "code",
        "outputId": "0257c218-e448-479b-eb36-574cb238c486",
        "colab": {
          "base_uri": "https://localhost:8080/",
          "height": 53
        }
      },
      "source": [
        "print(xtrain.shape)\n",
        "print(ytrain.shape)"
      ],
      "execution_count": 0,
      "outputs": [
        {
          "output_type": "stream",
          "text": [
            "(9800713, 37)\n",
            "(9800713, 1)\n"
          ],
          "name": "stdout"
        }
      ]
    },
    {
      "cell_type": "code",
      "metadata": {
        "id": "ivAVR2XNbRza",
        "colab_type": "code",
        "outputId": "8e5b1b45-e009-43a3-9570-4ecc81fcf831",
        "colab": {
          "base_uri": "https://localhost:8080/",
          "height": 54
        }
      },
      "source": [
        "# Drop duplicates\n",
        "xtrain.drop_duplicates()\n",
        "xtest.drop_duplicates()\n",
        "print(len(xtrain))\n",
        "print(len(xtest))"
      ],
      "execution_count": 0,
      "outputs": [
        {
          "output_type": "stream",
          "text": [
            "9800713\n",
            "3768311\n"
          ],
          "name": "stdout"
        }
      ]
    },
    {
      "cell_type": "code",
      "metadata": {
        "id": "bhGgTU3Dx6-x",
        "colab_type": "code",
        "outputId": "aeb116c7-becd-4f8a-ac96-8c095278b36e",
        "colab": {
          "base_uri": "https://localhost:8080/",
          "height": 224
        }
      },
      "source": [
        "# Concatenation of train data and label\n",
        "data = pd.concat([xtrain,ytrain], axis=1)\n",
        "data.head()"
      ],
      "execution_count": 0,
      "outputs": [
        {
          "output_type": "execute_result",
          "data": {
            "text/html": [
              "<div>\n",
              "<style scoped>\n",
              "    .dataframe tbody tr th:only-of-type {\n",
              "        vertical-align: middle;\n",
              "    }\n",
              "\n",
              "    .dataframe tbody tr th {\n",
              "        vertical-align: top;\n",
              "    }\n",
              "\n",
              "    .dataframe thead th {\n",
              "        text-align: right;\n",
              "    }\n",
              "</style>\n",
              "<table border=\"1\" class=\"dataframe\">\n",
              "  <thead>\n",
              "    <tr style=\"text-align: right;\">\n",
              "      <th></th>\n",
              "      <th>qs1</th>\n",
              "      <th>qs2</th>\n",
              "      <th>qs3</th>\n",
              "      <th>qs4</th>\n",
              "      <th>qs5</th>\n",
              "      <th>qs6</th>\n",
              "      <th>qs7</th>\n",
              "      <th>qs8</th>\n",
              "      <th>qs9</th>\n",
              "      <th>qs10</th>\n",
              "      <th>qs11</th>\n",
              "      <th>qs12</th>\n",
              "      <th>qs13</th>\n",
              "      <th>qr1</th>\n",
              "      <th>qr2</th>\n",
              "      <th>qr3</th>\n",
              "      <th>qr4</th>\n",
              "      <th>qr5</th>\n",
              "      <th>qr6</th>\n",
              "      <th>qr7</th>\n",
              "      <th>qr8</th>\n",
              "      <th>qr9</th>\n",
              "      <th>qr10</th>\n",
              "      <th>qr11</th>\n",
              "      <th>qr12</th>\n",
              "      <th>qr13</th>\n",
              "      <th>s1</th>\n",
              "      <th>s2</th>\n",
              "      <th>s3</th>\n",
              "      <th>s4</th>\n",
              "      <th>s5</th>\n",
              "      <th>s6</th>\n",
              "      <th>s7</th>\n",
              "      <th>s8</th>\n",
              "      <th>s9</th>\n",
              "      <th>s10</th>\n",
              "      <th>s11</th>\n",
              "      <th>y</th>\n",
              "    </tr>\n",
              "  </thead>\n",
              "  <tbody>\n",
              "    <tr>\n",
              "      <th>0</th>\n",
              "      <td>1.0</td>\n",
              "      <td>0.0</td>\n",
              "      <td>0.0</td>\n",
              "      <td>-6.24</td>\n",
              "      <td>-5.27</td>\n",
              "      <td>-1.86</td>\n",
              "      <td>0.63</td>\n",
              "      <td>3.27</td>\n",
              "      <td>0.89</td>\n",
              "      <td>350.98</td>\n",
              "      <td>64.86</td>\n",
              "      <td>0.0</td>\n",
              "      <td>1.00</td>\n",
              "      <td>1.0</td>\n",
              "      <td>0.0</td>\n",
              "      <td>0.0</td>\n",
              "      <td>-9.44</td>\n",
              "      <td>-12.53</td>\n",
              "      <td>0.84</td>\n",
              "      <td>2.59</td>\n",
              "      <td>1.53</td>\n",
              "      <td>1.03</td>\n",
              "      <td>276.02</td>\n",
              "      <td>58.02</td>\n",
              "      <td>0.0</td>\n",
              "      <td>1.00</td>\n",
              "      <td>2405.94</td>\n",
              "      <td>1981.09</td>\n",
              "      <td>2677.84</td>\n",
              "      <td>2470.44</td>\n",
              "      <td>1579.39</td>\n",
              "      <td>2185.79</td>\n",
              "      <td>2118.77</td>\n",
              "      <td>2580.99</td>\n",
              "      <td>2498.04</td>\n",
              "      <td>3180.58</td>\n",
              "      <td>2718.29</td>\n",
              "      <td>0</td>\n",
              "    </tr>\n",
              "    <tr>\n",
              "      <th>1</th>\n",
              "      <td>1.0</td>\n",
              "      <td>0.0</td>\n",
              "      <td>0.0</td>\n",
              "      <td>-0.42</td>\n",
              "      <td>-4.50</td>\n",
              "      <td>-4.31</td>\n",
              "      <td>1.61</td>\n",
              "      <td>1.72</td>\n",
              "      <td>2.76</td>\n",
              "      <td>347.06</td>\n",
              "      <td>28.85</td>\n",
              "      <td>0.0</td>\n",
              "      <td>0.99</td>\n",
              "      <td>1.0</td>\n",
              "      <td>0.0</td>\n",
              "      <td>0.0</td>\n",
              "      <td>-0.35</td>\n",
              "      <td>-18.97</td>\n",
              "      <td>-1.31</td>\n",
              "      <td>1.23</td>\n",
              "      <td>0.84</td>\n",
              "      <td>0.34</td>\n",
              "      <td>263.84</td>\n",
              "      <td>30.50</td>\n",
              "      <td>0.0</td>\n",
              "      <td>1.00</td>\n",
              "      <td>3241.37</td>\n",
              "      <td>2015.24</td>\n",
              "      <td>3987.19</td>\n",
              "      <td>3343.53</td>\n",
              "      <td>2894.69</td>\n",
              "      <td>2947.34</td>\n",
              "      <td>2689.42</td>\n",
              "      <td>3763.51</td>\n",
              "      <td>2544.22</td>\n",
              "      <td>3515.58</td>\n",
              "      <td>3247.49</td>\n",
              "      <td>0</td>\n",
              "    </tr>\n",
              "    <tr>\n",
              "      <th>2</th>\n",
              "      <td>1.0</td>\n",
              "      <td>0.0</td>\n",
              "      <td>0.0</td>\n",
              "      <td>33.76</td>\n",
              "      <td>-19.29</td>\n",
              "      <td>2.71</td>\n",
              "      <td>1.73</td>\n",
              "      <td>1.32</td>\n",
              "      <td>1.53</td>\n",
              "      <td>135.94</td>\n",
              "      <td>57.65</td>\n",
              "      <td>1.0</td>\n",
              "      <td>0.01</td>\n",
              "      <td>1.0</td>\n",
              "      <td>0.0</td>\n",
              "      <td>0.0</td>\n",
              "      <td>-12.58</td>\n",
              "      <td>-9.99</td>\n",
              "      <td>-0.15</td>\n",
              "      <td>1.21</td>\n",
              "      <td>0.34</td>\n",
              "      <td>1.60</td>\n",
              "      <td>357.67</td>\n",
              "      <td>51.98</td>\n",
              "      <td>1.0</td>\n",
              "      <td>1.00</td>\n",
              "      <td>2199.22</td>\n",
              "      <td>2549.59</td>\n",
              "      <td>2164.41</td>\n",
              "      <td>2100.69</td>\n",
              "      <td>1294.35</td>\n",
              "      <td>2136.04</td>\n",
              "      <td>1644.05</td>\n",
              "      <td>2308.05</td>\n",
              "      <td>1774.88</td>\n",
              "      <td>3005.79</td>\n",
              "      <td>2507.02</td>\n",
              "      <td>0</td>\n",
              "    </tr>\n",
              "    <tr>\n",
              "      <th>3</th>\n",
              "      <td>1.0</td>\n",
              "      <td>0.0</td>\n",
              "      <td>0.0</td>\n",
              "      <td>-2.82</td>\n",
              "      <td>-8.04</td>\n",
              "      <td>3.04</td>\n",
              "      <td>0.94</td>\n",
              "      <td>2.92</td>\n",
              "      <td>0.09</td>\n",
              "      <td>288.07</td>\n",
              "      <td>21.23</td>\n",
              "      <td>0.0</td>\n",
              "      <td>0.94</td>\n",
              "      <td>1.0</td>\n",
              "      <td>0.0</td>\n",
              "      <td>0.0</td>\n",
              "      <td>1.57</td>\n",
              "      <td>-13.22</td>\n",
              "      <td>-2.66</td>\n",
              "      <td>1.18</td>\n",
              "      <td>0.23</td>\n",
              "      <td>0.38</td>\n",
              "      <td>268.44</td>\n",
              "      <td>24.59</td>\n",
              "      <td>0.0</td>\n",
              "      <td>0.19</td>\n",
              "      <td>2390.40</td>\n",
              "      <td>2141.75</td>\n",
              "      <td>2086.02</td>\n",
              "      <td>2154.69</td>\n",
              "      <td>1247.48</td>\n",
              "      <td>1903.36</td>\n",
              "      <td>2232.54</td>\n",
              "      <td>2146.34</td>\n",
              "      <td>2201.53</td>\n",
              "      <td>3315.03</td>\n",
              "      <td>2274.76</td>\n",
              "      <td>0</td>\n",
              "    </tr>\n",
              "    <tr>\n",
              "      <th>4</th>\n",
              "      <td>1.0</td>\n",
              "      <td>0.0</td>\n",
              "      <td>0.0</td>\n",
              "      <td>3.56</td>\n",
              "      <td>-10.61</td>\n",
              "      <td>-0.65</td>\n",
              "      <td>0.19</td>\n",
              "      <td>1.04</td>\n",
              "      <td>2.10</td>\n",
              "      <td>166.12</td>\n",
              "      <td>37.36</td>\n",
              "      <td>1.0</td>\n",
              "      <td>0.00</td>\n",
              "      <td>1.0</td>\n",
              "      <td>0.0</td>\n",
              "      <td>0.0</td>\n",
              "      <td>20.03</td>\n",
              "      <td>-15.53</td>\n",
              "      <td>-1.21</td>\n",
              "      <td>1.31</td>\n",
              "      <td>0.23</td>\n",
              "      <td>1.25</td>\n",
              "      <td>172.19</td>\n",
              "      <td>26.14</td>\n",
              "      <td>0.0</td>\n",
              "      <td>1.00</td>\n",
              "      <td>1822.14</td>\n",
              "      <td>2202.60</td>\n",
              "      <td>2150.07</td>\n",
              "      <td>2194.25</td>\n",
              "      <td>1575.43</td>\n",
              "      <td>2345.59</td>\n",
              "      <td>1976.82</td>\n",
              "      <td>1440.78</td>\n",
              "      <td>2061.06</td>\n",
              "      <td>2927.96</td>\n",
              "      <td>2073.16</td>\n",
              "      <td>0</td>\n",
              "    </tr>\n",
              "  </tbody>\n",
              "</table>\n",
              "</div>"
            ],
            "text/plain": [
              "   qs1  qs2  qs3    qs4    qs5  ...       s8       s9      s10      s11  y\n",
              "0  1.0  0.0  0.0  -6.24  -5.27  ...  2580.99  2498.04  3180.58  2718.29  0\n",
              "1  1.0  0.0  0.0  -0.42  -4.50  ...  3763.51  2544.22  3515.58  3247.49  0\n",
              "2  1.0  0.0  0.0  33.76 -19.29  ...  2308.05  1774.88  3005.79  2507.02  0\n",
              "3  1.0  0.0  0.0  -2.82  -8.04  ...  2146.34  2201.53  3315.03  2274.76  0\n",
              "4  1.0  0.0  0.0   3.56 -10.61  ...  1440.78  2061.06  2927.96  2073.16  0\n",
              "\n",
              "[5 rows x 38 columns]"
            ]
          },
          "metadata": {
            "tags": []
          },
          "execution_count": 8
        }
      ]
    },
    {
      "cell_type": "code",
      "metadata": {
        "id": "Ybq9PZPSlD3N",
        "colab_type": "code",
        "outputId": "ce7e7c55-9ac2-4829-b37b-80ad577267c0",
        "colab": {
          "base_uri": "https://localhost:8080/",
          "height": 35
        }
      },
      "source": [
        "# Similarity matching between both images (similar if y = 1, otherwise 0)\n",
        "match = (ytrain == 1)\n",
        "print('Number of matches = {}'.format( match.sum()[0]))"
      ],
      "execution_count": 0,
      "outputs": [
        {
          "output_type": "stream",
          "text": [
            "Number of matches = 673052\n"
          ],
          "name": "stdout"
        }
      ]
    },
    {
      "cell_type": "code",
      "metadata": {
        "id": "9iO7KGgmrzYz",
        "colab_type": "code",
        "colab": {}
      },
      "source": [
        "# Number of common same images between train & test sets (comparison of features)\n",
        "Xtr = xtrain.copy()\n",
        "Xte = xtest.copy()\n",
        "\n",
        "# Features of image A correspond to qsx and features of the second image B correspond to columns qrx\n",
        "# x varies from 1 to 13\n",
        "\n",
        "Xtr[\"featA\"] = Xtr[\"qs1\"].astype(\"str\")+\"_\"\n",
        "Xtr[\"featB\"] = Xtr[\"qr1\"].astype(\"str\")+\"_\"\n",
        "\n",
        "Xte[\"featA\"] = Xte[\"qs1\"].astype(\"str\")+\"_\"\n",
        "Xte[\"featB\"] = Xte[\"qr1\"].astype(\"str\")+\"_\"\n",
        "\n",
        "for i in range(12): \n",
        "  qs = \"{}{}\".format('qs', i+2)\n",
        "  qr = \"{}{}\".format('qr', i+2)\n",
        "\n",
        "  Xtr[\"featA\"] = Xtr[\"featA\"] + Xtr[qs].astype(\"str\")+\"_\"\n",
        "  Xtr[\"featB\"] = Xtr[\"featB\"] + Xtr[qr].astype(\"str\")+\"_\"\n",
        "\n",
        "  Xte[\"featA\"] = Xte[\"featA\"] + Xte[qs].astype(\"str\")+\"_\"\n",
        "  Xte[\"featB\"] = Xte[\"featB\"] + Xte[qr].astype(\"str\")+\"_\"\n",
        "\n",
        "# Concatenation of features in columns qsx and qrx for training and for testing\n",
        "\n",
        "feat_train = pd.concat([Xtr[\"featA\"],Xtr[\"featB\"]], axis = 0)\n",
        "feat_train.drop_duplicates(inplace=True)\n",
        "\n",
        "feat_test = pd.concat([Xte[\"featA\"],Xte[\"featB\"]], axis = 0)\n",
        "feat_test.drop_duplicates(inplace=True)"
      ],
      "execution_count": 0,
      "outputs": []
    },
    {
      "cell_type": "code",
      "metadata": {
        "id": "xuPeaWJ6q2DM",
        "colab_type": "code",
        "colab": {}
      },
      "source": [
        "feat = pd.concat([feat_train, feat_test], axis=0)\n",
        "feat.drop_duplicates(inplace=True)\n",
        "print(\"The number of images: {}\".format(feat.shape[0]))\n",
        "print(\"The number of images in the training set is: {}\".format(feat_train.shape[0]))\n",
        "print(\"The number of images in the testing set is: {}\".format(feat_test.shape[0]))"
      ],
      "execution_count": 0,
      "outputs": []
    },
    {
      "cell_type": "code",
      "metadata": {
        "id": "X-7QtJ4hrJFr",
        "colab_type": "code",
        "outputId": "cabd8f68-6206-42a7-8508-06dc1d924fb9",
        "colab": {
          "base_uri": "https://localhost:8080/",
          "height": 35
        }
      },
      "source": [
        "print(\"The number of new images in the testing set is: {}\".format(feat.shape[0] - feat_test.shape[0]))"
      ],
      "execution_count": 0,
      "outputs": [
        {
          "output_type": "stream",
          "text": [
            "The number of new images in the testing set is: 9274367\n"
          ],
          "name": "stdout"
        }
      ]
    },
    {
      "cell_type": "code",
      "metadata": {
        "id": "cpRgy6av7pDN",
        "colab_type": "code",
        "colab": {}
      },
      "source": [
        "# Encoding labels \n",
        "enc = LabelEncoder()\n",
        "enc.fit(feat)"
      ],
      "execution_count": 0,
      "outputs": []
    },
    {
      "cell_type": "markdown",
      "metadata": {
        "id": "vdDdtI2jbcV7",
        "colab_type": "text"
      },
      "source": [
        "We want to encode the categorical features into model-understandable numerical data, fit and transform the first and second images features. we will call the first image A and second image B and their features respectively A and B."
      ]
    },
    {
      "cell_type": "code",
      "metadata": {
        "id": "D4ItPfUFy1y9",
        "colab_type": "code",
        "colab": {}
      },
      "source": [
        "xtrain_encod[\"A\"] = enc.transform(Xtr[\"featA\"])\n",
        "xtrain_encod[\"B\"] = enc.transform(Xtr[\"featB\"])\n",
        "\n",
        "xtest_encod[\"A\"] = enc.transform(Xte[\"featA\"])\n",
        "xtest_encod[\"B\"] = enc.transform(Xte[\"featB\"])"
      ],
      "execution_count": 0,
      "outputs": []
    },
    {
      "cell_type": "code",
      "metadata": {
        "id": "YnSp9tBK9i7q",
        "colab_type": "code",
        "outputId": "dcc99472-e856-4040-aa47-6f7a0d8a3a36",
        "colab": {
          "base_uri": "https://localhost:8080/",
          "height": 882
        }
      },
      "source": [
        "## Correlations\n",
        "data_corr = np.array(data.sample(10000))\n",
        "x = pd.DataFrame(data_corr[:,:-1])\n",
        "x.columns = xtrain.columns\n",
        "y = pd.DataFrame(data_corr[:,-1])\n",
        "y.columns = ytrain.columns\n",
        "\n",
        "corr = x.corr()\n",
        "plt.figure(figsize=(14,14))\n",
        "sns.heatmap(corr, \n",
        "        xticklabels=corr.columns,\n",
        "        yticklabels=corr.columns, cmap='coolwarm')\n",
        "plt.show()"
      ],
      "execution_count": 0,
      "outputs": [
        {
          "output_type": "display_data",
          "data": {
            "image/png": "[encoded data removed]",
            "text/plain": [
              "<Figure size 1080x1080 with 2 Axes>"
            ]
          },
          "metadata": {
            "tags": []
          }
        }
      ]
    },
    {
      "cell_type": "markdown",
      "metadata": {
        "id": "VtWO-QSOZWxI",
        "colab_type": "text"
      },
      "source": [
        "We can notice a high correlation between Sx (x from 1 to S11).\n",
        "There is a high correlation between qr13 and qs13, and between qr11 and qs11."
      ]
    },
    {
      "cell_type": "code",
      "metadata": {
        "id": "wfPNDzPzizWQ",
        "colab_type": "code",
        "colab": {}
      },
      "source": [
        "similarity = x.iloc[:,26:]\n",
        "sns.set(style=\"ticks\", color_codes=True)\n",
        "sns.PairGrid(similarity).map_diag(sns.kdeplot, color='Blue', legend=False).map_upper(plt.scatter, edgecolor=\"w\", s=30).map_lower(sns.kdeplot, shade=True,shade_lowest=False, cmap=\"mako\", legend=False)"
      ],
      "execution_count": 0,
      "outputs": []
    },
    {
      "cell_type": "code",
      "metadata": {
        "id": "E0Or3slQk8Gs",
        "colab_type": "code",
        "outputId": "b9804341-11f7-478c-cf15-846e6711a251",
        "colab": {
          "base_uri": "https://localhost:8080/",
          "height": 287
        }
      },
      "source": [
        "#Highly correlated values\n",
        "corr_list = []\n",
        "threshold = 0.1\n",
        "size = 10\n",
        "\n",
        "for i in range(0, size):\n",
        "    for j in range(i+1, size):\n",
        "        if (x.corr().iloc[i,j]>= threshold and x.corr().iloc[i,j]<1) or (x.corr().iloc[i,j] > -1 and x.corr().iloc[i,j]<=-threshold):\n",
        "            corr_list.append([x.corr().iloc[i,j],i,j])\n",
        "\n",
        "for v,i,j in sorted(corr_list,key= lambda x: -abs(x[0])):\n",
        "    print(\"%s and %s = %.2f\" % (x.columns[i], x.columns[j], v))"
      ],
      "execution_count": 0,
      "outputs": [
        {
          "output_type": "stream",
          "text": [
            "qs1 and qs2 = -0.83\n",
            "qs1 and qs3 = -0.57\n",
            "qs2 and qs4 = -0.23\n",
            "qs1 and qs10 = 0.20\n",
            "qs3 and qs4 = 0.19\n",
            "qs7 and qs9 = 0.18\n",
            "qs5 and qs10 = 0.16\n",
            "qs2 and qs10 = -0.16\n",
            "qs7 and qs10 = -0.15\n",
            "qs3 and qs10 = -0.13\n",
            "qs5 and qs9 = 0.12\n",
            "qs8 and qs9 = 0.11\n",
            "qs9 and qs10 = -0.11\n",
            "qs8 and qs10 = -0.11\n",
            "qs7 and qs8 = 0.10\n"
          ],
          "name": "stdout"
        }
      ]
    },
    {
      "cell_type": "code",
      "metadata": {
        "id": "2TZjcclFlI9c",
        "colab_type": "code",
        "outputId": "8a5b271f-1961-4b6a-eaa4-95b18e51a370",
        "colab": {
          "base_uri": "https://localhost:8080/",
          "height": 736
        }
      },
      "source": [
        "# features importance\n",
        "\n",
        "rf = RandomForestClassifier(verbose=1)\n",
        "classifier = rf.fit(x,y)\n",
        "\n",
        "indices = np.argsort(rf.feature_importances_)[::-1][:40]\n",
        "plt.figure(figsize=(10,10))\n",
        "\n",
        "g = sns.barplot(y=x.columns[indices][:40],x = classifier.feature_importances_[indices][:40] , orient='h')\n",
        "g.set_xlabel(\"Relative importance\",fontsize=12)\n",
        "g.set_ylabel(\"Features\",fontsize=12)\n",
        "\n",
        "g.tick_params(labelsize=9)\n",
        "g.set_title(\"Feature importance\")"
      ],
      "execution_count": 0,
      "outputs": [
        {
          "output_type": "stream",
          "text": [
            "/usr/local/lib/python3.6/dist-packages/ipykernel_launcher.py:3: DataConversionWarning: A column-vector y was passed when a 1d array was expected. Please change the shape of y to (n_samples,), for example using ravel().\n",
            "  This is separate from the ipykernel package so we can avoid doing imports until\n",
            "[Parallel(n_jobs=1)]: Using backend SequentialBackend with 1 concurrent workers.\n",
            "[Parallel(n_jobs=1)]: Done 100 out of 100 | elapsed:    2.7s finished\n"
          ],
          "name": "stderr"
        },
        {
          "output_type": "execute_result",
          "data": {
            "text/plain": [
              "Text(0.5, 1.0, 'Feature importance')"
            ]
          },
          "metadata": {
            "tags": []
          },
          "execution_count": 19
        },
        {
          "output_type": "display_data",
          "data": {
            "image/png": "[encoded data removed]",
            "text/plain": [
              "<Figure size 720x720 with 1 Axes>"
            ]
          },
          "metadata": {
            "tags": []
          }
        }
      ]
    },
    {
      "cell_type": "markdown",
      "metadata": {
        "id": "7KiSpmCMgbuC",
        "colab_type": "text"
      },
      "source": [
        "We can observe that qr10 qs10 qr5 and qr7 are important features. At this step, even though qs1 and qs2 don't seem important, we can still keep them and take them into account."
      ]
    },
    {
      "cell_type": "markdown",
      "metadata": {
        "id": "5c6RsslBbRzl",
        "colab_type": "text"
      },
      "source": [
        "### Train a simple classifier"
      ]
    },
    {
      "cell_type": "markdown",
      "metadata": {
        "id": "hkQy5K5n8-cS",
        "colab_type": "text"
      },
      "source": [
        "We split our dataset into train and test."
      ]
    },
    {
      "cell_type": "code",
      "metadata": {
        "id": "THOiXM5FoG0S",
        "colab_type": "code",
        "colab": {}
      },
      "source": [
        "X_train, X_test, y_train, y_test = train_test_split(xtrain, ytrain, test_size=0.2, random_state=42)"
      ],
      "execution_count": 0,
      "outputs": []
    },
    {
      "cell_type": "markdown",
      "metadata": {
        "id": "Z8Yj1f6shhLa",
        "colab_type": "text"
      },
      "source": [
        "Scaling and standardizing can help features arrive in more digestible form for  algorithms like logistic regression and if we have outliers among our features, normalizing our data will help scaling most of the data to a small interval."
      ]
    },
    {
      "cell_type": "code",
      "metadata": {
        "id": "PWRrnXOSe2bi",
        "colab_type": "code",
        "colab": {}
      },
      "source": [
        "# Feature Scaling\n",
        "from sklearn.preprocessing import StandardScaler\n",
        "sc = StandardScaler()\n",
        "X_train = sc.fit_transform(X_train)\n",
        "X_test = sc.transform(X_test)"
      ],
      "execution_count": 0,
      "outputs": []
    },
    {
      "cell_type": "markdown",
      "metadata": {
        "id": "7-6iEaNzN36p",
        "colab_type": "text"
      },
      "source": [
        "### Basic models and their accuracy scores"
      ]
    },
    {
      "cell_type": "code",
      "metadata": {
        "id": "eoY4S8eJorzh",
        "colab_type": "code",
        "outputId": "08b51c31-6f82-4184-bf01-0100b2bc7ed5",
        "colab": {
          "base_uri": "https://localhost:8080/",
          "height": 35
        }
      },
      "source": [
        "# random forest\n",
        "clf = RandomForestClassifier(n_estimators=100, max_depth = 20, random_state=0)\n",
        "clf.fit(X_train, y_train.values.ravel())\n",
        "pred = clf.predict_proba(X_test)\n",
        "pred_rf = np.where(pred[:,1] > 0.5, 1, 0)\n",
        "accuracy_score(pred_rf, y_test)"
      ],
      "execution_count": 0,
      "outputs": [
        {
          "output_type": "execute_result",
          "data": {
            "text/plain": [
              "0.9975450770683567"
            ]
          },
          "metadata": {
            "tags": []
          },
          "execution_count": 12
        }
      ]
    },
    {
      "cell_type": "code",
      "metadata": {
        "id": "FhAA1814pOWJ",
        "colab_type": "code",
        "outputId": "46f9550c-cb97-4f47-aa73-a5f67039d283",
        "colab": {
          "base_uri": "https://localhost:8080/",
          "height": 71
        }
      },
      "source": [
        "# Logistic regression\n",
        "clf_lr = LogisticRegression(random_state=0, solver='lbfgs', max_iter= 10000, multi_class='auto', verbose=1)\n",
        "clf_lr.fit(X_train, y_train.values.ravel())\n",
        "pred_lr = clf_lr.predict(X_test)\n",
        "acc_lr = accuracy_score(pred_lr, y_test)\n",
        "print(acc_lr)"
      ],
      "execution_count": 0,
      "outputs": [
        {
          "output_type": "stream",
          "text": [
            "[Parallel(n_jobs=1)]: Using backend SequentialBackend with 1 concurrent workers.\n"
          ],
          "name": "stderr"
        },
        {
          "output_type": "stream",
          "text": [
            "0.99667\n"
          ],
          "name": "stdout"
        },
        {
          "output_type": "stream",
          "text": [
            "[Parallel(n_jobs=1)]: Done   1 out of   1 | elapsed:   17.3s finished\n"
          ],
          "name": "stderr"
        }
      ]
    },
    {
      "cell_type": "code",
      "metadata": {
        "id": "xxM6HWmlqE4T",
        "colab_type": "code",
        "outputId": "aa16d6b4-6794-4033-f25f-528e8eb28cdf",
        "colab": {
          "base_uri": "https://localhost:8080/",
          "height": 125
        }
      },
      "source": [
        "# light gradient boosting model\n",
        "clf_lgbm = LGBMClassifier(learning_rate = 0.008, num_leaves = 1000, n_estimators=10000)\n",
        "clf_lgbm.fit(X_train, y_train.values.ravel())"
      ],
      "execution_count": 0,
      "outputs": [
        {
          "output_type": "execute_result",
          "data": {
            "text/plain": [
              "LGBMClassifier(boosting_type='gbdt', class_weight=None, colsample_bytree=1.0,\n",
              "               importance_type='split', learning_rate=0.008, max_depth=-1,\n",
              "               min_child_samples=20, min_child_weight=0.001, min_split_gain=0.0,\n",
              "               n_estimators=10000, n_jobs=-1, num_leaves=1000, objective=None,\n",
              "               random_state=None, reg_alpha=0.0, reg_lambda=0.0, silent=True,\n",
              "               subsample=1.0, subsample_for_bin=200000, subsample_freq=0)"
            ]
          },
          "metadata": {
            "tags": []
          },
          "execution_count": 8
        }
      ]
    },
    {
      "cell_type": "code",
      "metadata": {
        "id": "zvtom3xyIGL2",
        "colab_type": "code",
        "colab": {}
      },
      "source": [
        "pred_lgbm = clf_lgbm.predict_proba(X_test)"
      ],
      "execution_count": 0,
      "outputs": []
    },
    {
      "cell_type": "code",
      "metadata": {
        "id": "Uq7o-aeyzsLL",
        "colab_type": "code",
        "colab": {}
      },
      "source": [
        "acc_lgbm = accuracy_score(pred_lgbm, y_test)"
      ],
      "execution_count": 0,
      "outputs": []
    },
    {
      "cell_type": "markdown",
      "metadata": {
        "id": "sZvsmVwnq5Ov",
        "colab_type": "text"
      },
      "source": [
        "Light GBM can handle the large size of data and takes lower memory to run than xgboost."
      ]
    },
    {
      "cell_type": "markdown",
      "metadata": {
        "id": "eaXM5ZiWq_4f",
        "colab_type": "text"
      },
      "source": [
        "### Stacking / Ensemble methods"
      ]
    },
    {
      "cell_type": "markdown",
      "metadata": {
        "id": "Shlqva2XS-Cc",
        "colab_type": "text"
      },
      "source": [
        "Ensemble methods are algorithms that combine several machine learning techniques into one predictive model in order to decrease variance (bagging), bias (boosting), or improve predictions (stacking). In our case, we want to increase the accuracy score and improve even more the predictions."
      ]
    },
    {
      "cell_type": "markdown",
      "metadata": {
        "id": "hqbQC0wyLisl",
        "colab_type": "text"
      },
      "source": [
        "We will try to combine many models that we have tried separetly by stacking them.\n",
        "Stacking is an ensemble learning technique that combines multiple classification or regression models via a meta-classifier or a meta-regressor. The base level models are trained based on a complete training set, then the model is trained on the outputs of the base level model as features. The obtained stacked model will then be used passed through an lgbm, which is the most efficient here."
      ]
    },
    {
      "cell_type": "code",
      "metadata": {
        "id": "-t7V5agl6B5R",
        "colab_type": "code",
        "colab": {}
      },
      "source": [
        "models = [RandomForestClassifier(n_estimators=100, max_depth = 20, random_state=0), \n",
        "          LogisticRegression(random_state=0, solver='lbfgs', max_iter= 10000, multi_class='auto', verbose=1),\n",
        "          KNeighborsClassifier(n_neighbors=5, n_jobs=-1),\n",
        "          XGBClassifier(random_state=0, n_jobs=-1, learning_rate=0.1, n_estimators=100, max_depth=3),\n",
        "]"
      ],
      "execution_count": 0,
      "outputs": []
    },
    {
      "cell_type": "code",
      "metadata": {
        "id": "PTkEH-kJFGRi",
        "colab_type": "code",
        "colab": {}
      },
      "source": [
        "#models = [RandomForestClassifier(n_estimators=100, max_depth = 20, random_state=0), \n",
        "#          XGBClassifier(random_state=0, n_jobs=-1, learning_rate=0.1, n_estimators=100, max_depth=3),\n",
        "#]"
      ],
      "execution_count": 0,
      "outputs": []
    },
    {
      "cell_type": "code",
      "metadata": {
        "id": "W_BX0dKI8m8G",
        "colab_type": "code",
        "outputId": "716426c1-d5b3-4476-9049-b7c3f6c68ab7",
        "colab": {
          "base_uri": "https://localhost:8080/",
          "height": 146
        }
      },
      "source": [
        "S_train, S_test = stacking(models,                   \n",
        "                           X_train, y_train.values.ravel(), X_test,   \n",
        "                           regression=False, \n",
        "                           mode='oof_pred_bag', \n",
        "                           needs_proba=True,\n",
        "                           save_dir=None, \n",
        "                           metric=accuracy_score, \n",
        "                           n_folds=4, \n",
        "                           stratified=True,\n",
        "                           shuffle=True,  \n",
        "                           random_state=42,    \n",
        "                           verbose=2)"
      ],
      "execution_count": 0,
      "outputs": [
        {
          "output_type": "stream",
          "text": [
            "task:         [classification]\n",
            "n_classes:    [2]\n",
            "metric:       [accuracy_score]\n",
            "mode:         [oof_pred_bag]\n",
            "n_models:     [2]\n",
            "\n",
            "model  0:     [RandomForestClassifier]\n"
          ],
          "name": "stdout"
        }
      ]
    },
    {
      "cell_type": "code",
      "metadata": {
        "id": "m-s14Xb6fsYV",
        "colab_type": "code",
        "colab": {}
      },
      "source": [
        "model_final = LGBMClassifier(learning_rate = 0.008, num_leaves = 1000, n_estimators=10000)\n",
        "\n",
        "model_final = model_final.fit(S_train, y_train)\n",
        "y_pred = model_final.predict(S_test)\n",
        "print('Final prediction score: [%.8f]' % accuracy_score(y_test, y_pred))"
      ],
      "execution_count": 0,
      "outputs": []
    },
    {
      "cell_type": "markdown",
      "metadata": {
        "id": "K0R0PAyWOLzQ",
        "colab_type": "text"
      },
      "source": [
        "The light gradient boosting model is by far the most efficient algorithm. It would have been good to combine it with other models."
      ]
    },
    {
      "cell_type": "markdown",
      "metadata": {
        "id": "HQibFgASMNqP",
        "colab_type": "text"
      },
      "source": [
        "Due to a lack of a memory, we couldn't stack the model so we will instead use only a light gradient boosting model."
      ]
    },
    {
      "cell_type": "code",
      "metadata": {
        "id": "23QmuWA_tkUg",
        "colab_type": "code",
        "colab": {}
      },
      "source": [
        "#saving clf_lgbm\n",
        "filename = 'lgbm.sav'\n",
        "pickle.dump(clf_lgbm, open(filename, 'wb'))"
      ],
      "execution_count": 0,
      "outputs": []
    },
    {
      "cell_type": "code",
      "metadata": {
        "id": "X07PaSrFtkRg",
        "colab_type": "code",
        "colab": {}
      },
      "source": [
        "prediction_lgbm = pred_lgbm[:,1].copy()\n",
        "for i in range(0,len(X_test)):\n",
        "    if prediction_lgbm[i] >= 0.5:       \n",
        "        prediction_lgbm[i] = 1\n",
        "    else:\n",
        "        prediction_lgbm[i] = 0"
      ],
      "execution_count": 0,
      "outputs": []
    },
    {
      "cell_type": "code",
      "metadata": {
        "id": "Lu-jcL14fMXZ",
        "colab_type": "code",
        "colab": {}
      },
      "source": [
        "# parameters test\n",
        "d_train = lgb.Dataset(X_train, label=y_train)\n",
        "params = {}\n",
        "params['learning_rate'] = 0.003   #0.05\n",
        "params['boosting_type'] = 'gbdt'\n",
        "params['objective'] = 'binary'\n",
        "params['metric'] = 'binary_logloss'\n",
        "params['sub_feature'] = 0.5\n",
        "params['num_leaves'] = 10    #control the complexity of the tree and should be less than or equal to 2^(max_depth)\n",
        "params['min_data'] = 50\n",
        "params['max_depth'] = 10\n",
        "clf = lgb.train(params, d_train, 100)"
      ],
      "execution_count": 0,
      "outputs": []
    },
    {
      "cell_type": "markdown",
      "metadata": {
        "id": "LMJN6MZmVLPB",
        "colab_type": "text"
      },
      "source": [
        "\n",
        "\n",
        "For better accuracy:\n",
        "*   Use large max_bin (may be slower)\n",
        "*   Use large num_leaves(may cause over-fitting)\n",
        "*   Use small learning_rate with large num_iterations\n",
        "*   Use bigger training data\n",
        "*   Try to use categorical feature directly\n",
        "\n",
        "*Source: https://medium.com/@pushkarmandot/https-medium-com-pushkarmandot-what-is-lightgbm-how-to-implement-it-how-to-fine-tune-the-parameters-60347819b7fc*"
      ]
    },
    {
      "cell_type": "code",
      "metadata": {
        "id": "DzYqW-cwfbz2",
        "colab_type": "code",
        "colab": {}
      },
      "source": [
        "#Prediction\n",
        "y_pred=clf.predict(X_test)\n",
        "#convert into binary values\n",
        "for i in range(0,99):\n",
        "    if y_pred[i]>=.5:       # setting threshold to .5\n",
        "       y_pred[i]=1\n",
        "    else:  \n",
        "       y_pred[i]=0"
      ],
      "execution_count": 0,
      "outputs": []
    },
    {
      "cell_type": "code",
      "metadata": {
        "id": "5L_PsnlMf2WP",
        "colab_type": "code",
        "colab": {}
      },
      "source": [
        "#Confusion matrix\n",
        "cm = confusion_matrix(y_test, y_pred)\n",
        "#Accuracy\n",
        "accuracy=accuracy_score(y_pred,y_test)"
      ],
      "execution_count": 0,
      "outputs": []
    },
    {
      "cell_type": "markdown",
      "metadata": {
        "id": "f9PeSQhKbR0U",
        "colab_type": "text"
      },
      "source": [
        "### Prepare a file for submission"
      ]
    },
    {
      "cell_type": "markdown",
      "metadata": {
        "id": "adG3TZGLOyhT",
        "colab_type": "text"
      },
      "source": [
        "The basic idea was to split the data into X_train and X_test, then train 3 models and predict X_test with 3 different models which are : random forest, logistic regression and light gradient boosting. Then, we stack the 3 predictions together and concatenate the resulted dataframes into pred_concatenate. \n",
        "\n",
        "Beside concatenating, we can also calculate the average of the classification result (1 or 0).\n",
        "\n",
        "Afterwards, we run a randomForest Classifier and fit pred_concatenate with this classifier.\n",
        "\n",
        "Last, we save these models, use them to predict for the real xtest dataset, concatenate again the 3 first models and then predict xtest with a meta classifier or regressor."
      ]
    },
    {
      "cell_type": "code",
      "metadata": {
        "id": "Iprer-XKjDag",
        "colab_type": "code",
        "colab": {}
      },
      "source": [
        "# 3 predictions avc randomforest, logistic regression et lgbm\n",
        "pred_1 = clf.predict(X_test)\n",
        "pred_2 = clf_lr.predict(X_test)\n",
        "pred_3 = clf_lgbm.predict_proba(X_test)"
      ],
      "execution_count": 0,
      "outputs": []
    },
    {
      "cell_type": "code",
      "metadata": {
        "id": "5l9MowGjkofP",
        "colab_type": "code",
        "colab": {}
      },
      "source": [
        "#concatenation\n",
        "pred_concatenate = pd.DataFrame(np.column_stack((pred_1,pred_2,pred_3)))\n",
        "pred_concatenate = np.concatenate([X_test, pd.DataFrame(np.column_stack((pred_1,pred_2,pred_3)))], axis=1)"
      ],
      "execution_count": 0,
      "outputs": []
    },
    {
      "cell_type": "code",
      "metadata": {
        "id": "X3cpLitgrxzM",
        "colab_type": "code",
        "outputId": "ecaae1e1-6335-4604-ff12-087fe4f55621",
        "colab": {
          "base_uri": "https://localhost:8080/",
          "height": 161
        }
      },
      "source": [
        "# retrain concatenation\n",
        "model_4 = RandomForestClassifier(n_estimators=100, max_depth = 20, random_state=0)\n",
        "model_4.fit(pred_concatenate, y_test.values.ravel())"
      ],
      "execution_count": 0,
      "outputs": [
        {
          "output_type": "execute_result",
          "data": {
            "text/plain": [
              "RandomForestClassifier(bootstrap=True, ccp_alpha=0.0, class_weight=None,\n",
              "                       criterion='gini', max_depth=20, max_features='auto',\n",
              "                       max_leaf_nodes=None, max_samples=None,\n",
              "                       min_impurity_decrease=0.0, min_impurity_split=None,\n",
              "                       min_samples_leaf=1, min_samples_split=2,\n",
              "                       min_weight_fraction_leaf=0.0, n_estimators=100,\n",
              "                       n_jobs=None, oob_score=False, random_state=0, verbose=0,\n",
              "                       warm_start=False)"
            ]
          },
          "metadata": {
            "tags": []
          },
          "execution_count": 45
        }
      ]
    },
    {
      "cell_type": "code",
      "metadata": {
        "id": "VJY4ladvpFpd",
        "colab_type": "code",
        "colab": {}
      },
      "source": [
        "# predict xtest with 3 models\n",
        "#pred_1 = clf.predict(xtest)\n",
        "#pred_2 = clf_lr.predict(xtest)\n",
        "pred_3 = clf_lgbm.predict_proba(xtest)"
      ],
      "execution_count": 0,
      "outputs": []
    },
    {
      "cell_type": "code",
      "metadata": {
        "id": "KC7A6Co4lD7i",
        "colab_type": "code",
        "colab": {}
      },
      "source": [
        "# Classify the provided test data\n",
        "pred_concatenate = pd.DataFrame(np.column_stack((pred_1,pred_2,pred_3)))\n",
        "y_pred_combine = model_4.predict(pred_concatenate)"
      ],
      "execution_count": 0,
      "outputs": []
    },
    {
      "cell_type": "code",
      "metadata": {
        "id": "8V1JGbkJzZgm",
        "colab_type": "code",
        "outputId": "5537d987-cbf5-4974-a75d-f83a4ef70f02",
        "colab": {
          "base_uri": "https://localhost:8080/",
          "height": 161
        }
      },
      "source": [
        "print(pred_3)\n",
        "print(pred_3.shape)"
      ],
      "execution_count": 0,
      "outputs": [
        {
          "output_type": "stream",
          "text": [
            "[[9.99999996e-01 4.35829040e-09]\n",
            " [1.00000000e+00 5.47936600e-12]\n",
            " [1.00000000e+00 7.54257073e-12]\n",
            " ...\n",
            " [1.00000000e+00 3.08796864e-10]\n",
            " [1.00000000e+00 2.46644414e-12]\n",
            " [9.99999999e-01 1.12323769e-09]]\n",
            "(3768311, 2)\n"
          ],
          "name": "stdout"
        }
      ]
    },
    {
      "cell_type": "code",
      "metadata": {
        "id": "yOusTxOHzVP1",
        "colab_type": "code",
        "outputId": "273265e4-c008-47f0-c42f-86adefd98a4f",
        "colab": {
          "base_uri": "https://localhost:8080/",
          "height": 35
        }
      },
      "source": [
        "ytest = clf_lgbm.predict_proba(xtest)[:,clf_lgbm.classes_ == 1][:,0]\n",
        "print(ytest.shape)"
      ],
      "execution_count": 0,
      "outputs": [
        {
          "output_type": "stream",
          "text": [
            "(3768311,)\n"
          ],
          "name": "stdout"
        }
      ]
    },
    {
      "cell_type": "markdown",
      "metadata": {
        "id": "BCyKmAc6YbL8",
        "colab_type": "text"
      },
      "source": [
        "Due to lack of memory and crush of google colab, we weren't able to stack 3 models, so the results are only given by applying lgbm (clf_lgbm).\n",
        "Its implementation is easy, once we find the right parameters tuning."
      ]
    },
    {
      "cell_type": "code",
      "metadata": {
        "id": "poa6QfB4sKn5",
        "colab_type": "code",
        "colab": {}
      },
      "source": [
        "np.savetxt('/content/drive/My Drive/data challenge_idemia/ytest_challenge_sonia.csv', ytest, fmt = '%1.15f', delimiter=',')"
      ],
      "execution_count": 0,
      "outputs": []
    }
  ]
}